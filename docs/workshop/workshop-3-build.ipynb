{
 "cells": [
  {
   "cell_type": "markdown",
   "metadata": {},
   "source": [
    "## 3. Building and running Contoso Creative Writer \n",
    "\n",
    "We will now build and run Contoso Creativer Writer a multi-agent application! \n",
    "\n",
    "<div class='alert alert-block alert-success'>\n",
    "<p>Steps to build and run Contoso Creative Writer:</p>\n",
    "</div>\n",
    "\n",
    "> [Step 1: Start the FastAPI server](#step-1-start-the-fastapi-server) \n",
    "> <br> [Step 2: Start the Web Server](#step-2-start-the-web-server)\n",
    "> <br> [Step 3: Test the app](#step-3-test-the-app)\n",
    "\n",
    "<br>\n",
    " \n",
    "All the commands in this notebook will need to be run from the terminal! \n",
    "\n",
    "### **Step 1: Start the FastAPI server**\n",
    "\n",
    "Complete the following tasks...\n",
    "\n",
    "---\n",
    "<img src=\"todo.png\" alt=\"todo icon\" width=\"40\" height=\"40\"> **Tasks for you to do:**\n",
    "\n",
    "<br>\n",
    "\n",
    "1. We'll start by navigating to the correct folder. \n",
    "\n",
    "**Run the below cell and copy and paste the output to the terminal**"
   ]
  },
  {
   "cell_type": "code",
   "execution_count": null,
   "metadata": {},
   "outputs": [],
   "source": [
    "from IPython.display import Markdown\n",
    "Markdown(f\"cd ./src/api\")"
   ]
  },
  {
   "cell_type": "markdown",
   "metadata": {},
   "source": [
    "2. Next we'll run the FastAPI webserver with the following command (again copy and paste the output in the terminal):"
   ]
  },
  {
   "cell_type": "code",
   "execution_count": null,
   "metadata": {},
   "outputs": [],
   "source": [
    "from IPython.display import Markdown\n",
    "Markdown(f\"fastapi dev main.py\")"
   ]
  },
  {
   "cell_type": "markdown",
   "metadata": {},
   "source": [
    "3. Next you'll need to change the visibility of the **8000** and **5173** ports to public in the **PORTS** tab. \n",
    "\n",
    "    You can do this by right clicking on the visibility section of the port, selecting port visibility and setting it to public. \n",
    "    <br>The ports tab should look like this:\n",
    "\n",
    "    <img src=\"../../images/ports.png\" alt=\"Screenshot showing setting port-visibility\" width=\"800px\" />\n",
    "\n",
    "To complete this step once the ports are public navigate back to the terminal tab and confirm that you can see *Application startup complete*. \n",
    "\n",
    "**Step 1 Complete ✅**\n",
    "\n",
    "### **Step 2: Start the web server**\n",
    "\n",
    "Complete the following tasks...\n",
    "\n",
    "---\n",
    "<img src=\"todo.png\" alt=\"todo icon\" width=\"40\" height=\"40\"> **Tasks for you to do:**\n",
    "\n",
    "1. Open a **new terminal** and navigate to the web folder\n",
    "\n",
    "    Once you've completed the above steps. You'll need to:\n",
    "    - Open a **new terminal** \n",
    "    - **Navigate to the web folder** by running the below command and copying and pasting the output to the terminal. "
   ]
  },
  {
   "cell_type": "code",
   "execution_count": null,
   "metadata": {},
   "outputs": [],
   "source": [
    "from IPython.display import Markdown\n",
    "Markdown(f\"cd ./src/web\")"
   ]
  },
  {
   "cell_type": "markdown",
   "metadata": {},
   "source": [
    "2. Next we will install the node packages (copy and paste output to the terminal):"
   ]
  },
  {
   "cell_type": "code",
   "execution_count": null,
   "metadata": {},
   "outputs": [],
   "source": [
    "from IPython.display import Markdown\n",
    "Markdown(f\"npm install\")"
   ]
  },
  {
   "cell_type": "markdown",
   "metadata": {},
   "source": [
    "3. We can then run the web app with a local dev web server with this command (run the output in the terminal here too):"
   ]
  },
  {
   "cell_type": "code",
   "execution_count": null,
   "metadata": {},
   "outputs": [],
   "source": [
    "from IPython.display import Markdown\n",
    "Markdown(f\"npm run dev\")"
   ]
  },
  {
   "cell_type": "markdown",
   "metadata": {},
   "source": [
    "4. Navigate to the Application:\n",
    "    - Once you've run the above command you should see an `http://localhost:5173/` link in the terminal. \n",
    "    - Right click the link or click the **open on browser** button that comes up as a Gitub notification in the bottom right corner of the screen. \n",
    "    - If you see a page from Github select the **continue** button. If not skip you should already see your app. \n",
    "    - You should now see the app appear on your screen!\n",
    "\n",
    "To complete this step confirm that you can see the Constoso Creative Writer application. \n",
    "\n",
    "**Step 2 Complete ✅**\n",
    "\n",
    "### **Step 3: Test the app**\n",
    "\n",
    "Complete the following tasks...\n",
    "\n",
    "---\n",
    "<img src=\"todo.png\" alt=\"todo icon\" width=\"40\" height=\"40\"> **Tasks for you to do:**\n",
    "\n",
    "\n",
    "1. Click the **Example** button to fill out the example information. Read the example instructions. \n",
    "\n",
    "2. **Start Work** button to get Contoso Creative Writer to generate an article. \n",
    "\n",
    "3. Click on the small **Debug** button at the bottom right of the Application to see which agent steps are carried out.\n",
    "\n",
    "To complete this step confirm that an article was generated that includes citation links and the products requested. \n",
    "\n",
    "> **⭐BONUS:⭐** You can generate the article in a language of your choice. \n",
    "><br> In the Assignment section add an instruction to create the article in your language and run the app again! \n",
    "\n",
    "**Step 3 Complete ✅**\n",
    "\n",
    "##### Congratulations you've succesfully built and ran Contoso Creative Writer🎉\n",
    "- [✅] Step 1: Start the FastAPI server \n",
    "- [✅] Step 2: Start the Web Server\n",
    "- [✅] Step 3: Test the app\n",
    "\n",
    "You've now almost completed the workshop, let's move on to the final learning outcome!\n",
    "\n",
    "> ⏰**Note:**\n",
    "> - Remember this lab is self paced so you can always complete it on your own, even after the session. \n",
    "> - Do not worry if you are not able to finish everything during the workshop"
   ]
  },
  {
   "cell_type": "markdown",
   "metadata": {},
   "source": [
    "➡️ **Open [next workshop notebook](./workshop-4-ci-cd.ipynb)**"
   ]
  }
 ],
 "metadata": {
  "kernelspec": {
   "display_name": "Python 3",
   "language": "python",
   "name": "python3"
  },
  "language_info": {
   "codemirror_mode": {
    "name": "ipython",
    "version": 3
   },
   "file_extension": ".py",
   "mimetype": "text/x-python",
   "name": "python",
   "nbconvert_exporter": "python",
   "pygments_lexer": "ipython3",
   "version": "3.11.10"
  }
 },
 "nbformat": 4,
 "nbformat_minor": 2
}
